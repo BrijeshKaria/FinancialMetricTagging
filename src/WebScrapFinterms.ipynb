{
 "cells": [
  {
   "cell_type": "code",
   "execution_count": 38,
   "metadata": {},
   "outputs": [
    {
     "name": "stdout",
     "output_type": "stream",
     "text": [
      "[<h3>#1 Revenue</h3>, <h3>#2 Expenses</h3>, <h3>#3 Depreciation</h3>, <h3>#4 Earnings &amp; Adjusted Earnings</h3>, <h3>#5 Earnings-Per-Share</h3>, <h3>#6 Gross Margin</h3>, <h3>#7 Operating Margin</h3>, <h3>#8 Net Margin</h3>, <h3>#9 Assets</h3>, <h3>#10 Current Assets</h3>, <h3>#11 Liabilities</h3>, <h3>#12 Current Liabilities</h3>, <h3>#13 Debt</h3>, <h3>#14 Equity</h3>, <h3>#15 Capital Expenditures</h3>, <h3>#16 Operating Cash flow &amp; Cash Flow from Operations</h3>, <h3>#17 Free Cash Flow</h3>, <h3>#18 Market Capitalization</h3>, <h3>#19 Enterprise Value</h3>, <h3>#20 Ticker</h3>, <h3>#21 Sector</h3>, <h3>#22 Volume</h3>, <h3>#23 Return on Assets (abbreviated as ROA)</h3>, <h3>#24 Return on Equity (abbreviated as ROE)</h3>, <h3>#25 Return on Invested Capital (abbreviated as ROIC)</h3>, <h3>#26 Cash Return on Invested Capital (abbreviated as CROIC)</h3>, <h3>#27 Gross Profitability Ratio</h3>, <h3>#28 Standard Deviation</h3>, <h3>#29 Beta</h3>, <h3>#30 Maximum Drawdown</h3>, <h3>#31 Value at Risk (abbreviated VaR)</h3>, <h3>#32 Margin of Safety</h3>, <h3>#33 Sloan Ratio</h3>, <h3>#34 Piotroski F-Score</h3>, <h3>#35 Altman-Z Score</h3>, <h3>#36 Beneish-M Score</h3>, <h3>#37 Sharpe Ratio</h3>, <h3>#38 Treynor Ratio</h3>, <h3>#39 Sortino Ratio</h3>, <h3>#40 Calmar Ratio &amp; MAR Ratio</h3>, <h3>#41 Sterling Ratio</h3>, <h3>#42 Omega Ratio</h3>, <h3>#43 Information Ratio</h3>, <h3>#44 Upside &amp; Downside Capture Ratios</h3>, <h3>#45 Dividend Yield</h3>, <h3>#46 Dividend Payout Ratio</h3>, <h3>#47 Dividend Payback Period</h3>, <h3>#48 Yield on Cost</h3>, <h3>#49 Dividend Discount Model</h3>, <h3>#50 Dividend History</h3>, <h3>#51 Arithmetic Growth Rate</h3>, <h3>#52 Geometric Growth Rate</h3>, <h3>#53 Total Return</h3>, <h3>#54 Survivorship bias</h3>, <h3>#55 Price-To Earnings Ratio</h3>, <h3>#56 Enterprise Value to EBITDA</h3>, <h3>#57 Enterprise Value to EBIT</h3>, <h3>#58 Enterprise Value to Free Cash Flow</h3>, <h3>#59 Price to Sales</h3>, <h3>#60 Price to Book Value</h3>, <h3>#61 Price to Tangible Book Value</h3>, <h3>#62 Forward Price to Earnings Ratio</h3>, <h3>#63 Price to Earnings to Growth Ratio (abbreviated PEG)</h3>, <h3>#64 Modified Price to Earnings to Growth Ratio</h3>, <h3>#65 Shiller Price to Earnings Ratio</h3>, <h3>#66 Negative Enterprise Value</h3>, <h3>#67 Discount to Net Current Asset Value</h3>, <h3>#68 Discounted Cash Flow</h3>, <h3>#69 Earnings Yield</h3>, <h3>#70 Magic Formula</h3>, <h3>#71 Net Net Working Capital</h3>, <h3>#72 Shareholder Yield</h3>, <h3>#73 Graham Number</h3>, <h3>#74 Equity to Assets Ratio</h3>, <h3>#75 Cash Flow to Debt Coverage Ratio</h3>, <h3>#76 Quick Ratio</h3>, <h3>#77 Debt to Equity Ratio</h3>, <h3>#78 Interest Coverage Ratio</h3>, <h3>#79 52 Week Range</h3>, <h3>#80 Momentum</h3>, <h3>#81 Simple Moving Average</h3>, <h3>#82 Relative Strength Index (abbreviated RSI)</h3>, <h3>#83 Average True Range</h3>, <h3>#84 Alpha</h3>, <h3>#85 Risk Free Rate of Return</h3>, <h3>#86 WACC</h3>, <h3>#87 R-Squared</h3>, <h3>#88 Active Share</h3>, <h3>#89 Tracking Error</h3>, <h3>#90 Correlation</h3>, <h3>#91 Ownerâ€™s Earnings</h3>, <h3>#92 FFO</h3>, <h3>#93 AFFO</h3>, <h3>#94 Short Ratio</h3>, <h3>#95 Insider Ownership</h3>, <h3>#96 Institutional Ownership</h3>, <h3>#97 Cash Conversion Cycle</h3>, <h3>#98 Days Sales of Inventory</h3>, <h3>#99 Days Sales Outstanding</h3>, <h3>#100 Days Payable Outstanding</h3>, <h3>#101 Inventory Turnover Ratio</h3>]\n"
     ]
    }
   ],
   "source": [
    "import urllib.request\n",
    "from bs4 import BeautifulSoup\n",
    "import html\n",
    "\n",
    "url = 'https://www.suredividend.com/ratios-metrics/'\n",
    "\n",
    "response = urllib.request.urlopen(url)\n",
    "soup = BeautifulSoup(response)\n",
    "\n",
    "links = soup.findAll('h3')\n",
    "print(links)\n"
   ]
  },
  {
   "cell_type": "code",
   "execution_count": 39,
   "metadata": {},
   "outputs": [
    {
     "name": "stdout",
     "output_type": "stream",
     "text": [
      "Revenue\n",
      "Expenses\n",
      "Depreciation\n",
      "Earnings & Adjusted Earnings\n",
      "Earnings-Per-Share\n",
      "Gross Margin\n",
      "Operating Margin\n",
      "Net Margin\n",
      "Assets\n",
      "Current Assets\n",
      "Liabilities\n",
      "Current Liabilities\n",
      "Debt\n",
      "Equity\n",
      "Capital Expenditures\n",
      "Operating Cash flow & Cash Flow from Operations\n",
      "Free Cash Flow\n",
      "Market Capitalization\n",
      "Enterprise Value\n",
      "Ticker\n",
      "Sector\n",
      "Volume\n",
      "Return on Assets (abbreviated as ROA)\n",
      "Return on Equity (abbreviated as ROE)\n",
      "Return on Invested Capital (abbreviated as ROIC)\n",
      "Cash Return on Invested Capital (abbreviated as CROIC)\n",
      "Gross Profitability Ratio\n",
      "Standard Deviation\n",
      "Beta\n",
      "Maximum Drawdown\n",
      "Value at Risk (abbreviated VaR)\n",
      "Margin of Safety\n",
      "Sloan Ratio\n",
      "Piotroski F-Score\n",
      "Altman-Z Score\n",
      "Beneish-M Score\n",
      "Sharpe Ratio\n",
      "Treynor Ratio\n",
      "Sortino Ratio\n",
      "Calmar Ratio & MAR Ratio\n",
      "Sterling Ratio\n",
      "Omega Ratio\n",
      "Information Ratio\n",
      "Upside & Downside Capture Ratios\n",
      "Dividend Yield\n",
      "Dividend Payout Ratio\n",
      "Dividend Payback Period\n",
      "Yield on Cost\n",
      "Dividend Discount Model\n",
      "Dividend History\n",
      "Arithmetic Growth Rate\n",
      "Geometric Growth Rate\n",
      "Total Return\n",
      "Survivorship bias\n",
      "Price-To Earnings Ratio\n",
      "Enterprise Value to EBITDA\n",
      "Enterprise Value to EBIT\n",
      "Enterprise Value to Free Cash Flow\n",
      "Price to Sales\n",
      "Price to Book Value\n",
      "Price to Tangible Book Value\n",
      "Forward Price to Earnings Ratio\n",
      "Price to Earnings to Growth Ratio (abbreviated PEG)\n",
      "Modified Price to Earnings to Growth Ratio\n",
      "Shiller Price to Earnings Ratio\n",
      "Negative Enterprise Value\n",
      "Discount to Net Current Asset Value\n",
      "Discounted Cash Flow\n",
      "Earnings Yield\n",
      "Magic Formula\n",
      "Net Net Working Capital\n",
      "Shareholder Yield\n",
      "Graham Number\n",
      "Equity to Assets Ratio\n",
      "Cash Flow to Debt Coverage Ratio\n",
      "Quick Ratio\n",
      "Debt to Equity Ratio\n",
      "Interest Coverage Ratio\n",
      "52 Week Range\n",
      "Momentum\n",
      "Simple Moving Average\n",
      "Relative Strength Index (abbreviated RSI)\n",
      "Average True Range\n",
      "Alpha\n",
      "Risk Free Rate of Return\n",
      "WACC\n",
      "R-Squared\n",
      "Active Share\n",
      "Tracking Error\n",
      "Correlation\n",
      "Ownerâ€™s Earnings\n",
      "FFO\n",
      "AFFO\n",
      "Short Ratio\n",
      "Insider Ownership\n",
      "Institutional Ownership\n",
      "Cash Conversion Cycle\n",
      "Days Sales of Inventory\n",
      "Days Sales Outstanding\n",
      "Days Payable Outstanding\n",
      "Inventory Turnover Ratio\n"
     ]
    }
   ],
   "source": [
    "with open('finterms.txt', 'w') as the_file:\n",
    "    for link1 in links:\n",
    "        header = str(link1)\n",
    "        startindex = header.index(' ')+1\n",
    "        endindex = header.index('</h3>')\n",
    "        finterm = html.unescape(header[startindex:endindex])\n",
    "        print(finterm)\n",
    "        the_file.write(finterm+'\\n')\n",
    "    the_file.close()"
   ]
  },
  {
   "cell_type": "code",
   "execution_count": 42,
   "metadata": {},
   "outputs": [
    {
     "name": "stdout",
     "output_type": "stream",
     "text": [
      "Relative Strength Index (abbreviated RSI)\n"
     ]
    }
   ],
   "source": [
    "a = \"<h3>#82 Relative Strength Index (abbreviated RSI)</h3>\"\n",
    "header = str(a)\n",
    "startindex = header.index(' ')+1\n",
    "endindex = header.index('</h3>')\n",
    "\n",
    "finterm = html.unescape(header[startindex:endindex])\n",
    "\n",
    "abbrIndex = finterm.index()\n",
    "\n",
    "print(finterm)\n"
   ]
  }
 ],
 "metadata": {
  "kernelspec": {
   "display_name": "Python 3",
   "language": "python",
   "name": "python3"
  },
  "language_info": {
   "codemirror_mode": {
    "name": "ipython",
    "version": 3
   },
   "file_extension": ".py",
   "mimetype": "text/x-python",
   "name": "python",
   "nbconvert_exporter": "python",
   "pygments_lexer": "ipython3",
   "version": "3.5.3"
  }
 },
 "nbformat": 4,
 "nbformat_minor": 2
}
